{
  "nbformat": 4,
  "nbformat_minor": 0,
  "metadata": {
    "colab": {
      "name": "MINIS.ipynb",
      "provenance": [],
      "authorship_tag": "ABX9TyM//tyKg+5rSuxEceOjWOnY",
      "include_colab_link": true
    },
    "kernelspec": {
      "name": "python3",
      "display_name": "Python 3"
    }
  },
  "cells": [
    {
      "cell_type": "markdown",
      "metadata": {
        "id": "view-in-github",
        "colab_type": "text"
      },
      "source": [
        "<a href=\"https://colab.research.google.com/github/AKAS1012/Face_Detection/blob/master/MINIS.ipynb\" target=\"_parent\"><img src=\"https://colab.research.google.com/assets/colab-badge.svg\" alt=\"Open In Colab\"/></a>"
      ]
    },
    {
      "cell_type": "code",
      "metadata": {
        "id": "gQQFiMM3MvM-",
        "colab_type": "code",
        "colab": {
          "base_uri": "https://localhost:8080/",
          "height": 71
        },
        "outputId": "72e8212c-1b81-46ec-8905-bc6021f0b0ae"
      },
      "source": [
        "import tensorflow as tf\n",
        "import pandas as pd\n",
        "import seaborn as sns\n",
        "import numpy as np\n",
        "import matplotlib.pyplot as plt\n",
        "import keras"
      ],
      "execution_count": 1,
      "outputs": [
        {
          "output_type": "stream",
          "text": [
            "/usr/local/lib/python3.6/dist-packages/statsmodels/tools/_testing.py:19: FutureWarning: pandas.util.testing is deprecated. Use the functions in the public API at pandas.testing instead.\n",
            "  import pandas.util.testing as tm\n"
          ],
          "name": "stderr"
        }
      ]
    },
    {
      "cell_type": "code",
      "metadata": {
        "id": "1w0ztsH0OWKw",
        "colab_type": "code",
        "colab": {
          "base_uri": "https://localhost:8080/",
          "height": 35
        },
        "outputId": "d8509d3b-5333-48b0-eada-08458fa157f6"
      },
      "source": [
        "tf.__version__"
      ],
      "execution_count": 2,
      "outputs": [
        {
          "output_type": "execute_result",
          "data": {
            "application/vnd.google.colaboratory.intrinsic+json": {
              "type": "string"
            },
            "text/plain": [
              "'2.3.0'"
            ]
          },
          "metadata": {
            "tags": []
          },
          "execution_count": 2
        }
      ]
    },
    {
      "cell_type": "code",
      "metadata": {
        "id": "_kYLTyG5Oijk",
        "colab_type": "code",
        "colab": {
          "base_uri": "https://localhost:8080/",
          "height": 35
        },
        "outputId": "7f8da587-8564-42cb-f1c0-c04308a124b9"
      },
      "source": [
        "keras.__version__"
      ],
      "execution_count": 3,
      "outputs": [
        {
          "output_type": "execute_result",
          "data": {
            "application/vnd.google.colaboratory.intrinsic+json": {
              "type": "string"
            },
            "text/plain": [
              "'2.4.3'"
            ]
          },
          "metadata": {
            "tags": []
          },
          "execution_count": 3
        }
      ]
    },
    {
      "cell_type": "code",
      "metadata": {
        "id": "ZZXUH4v-Qv8E",
        "colab_type": "code",
        "colab": {}
      },
      "source": [
        "mnist = pd.read_csv(r\"/content/MNIST_Train.csv\")"
      ],
      "execution_count": 4,
      "outputs": []
    },
    {
      "cell_type": "code",
      "metadata": {
        "id": "7KT6nwdkQ9He",
        "colab_type": "code",
        "colab": {}
      },
      "source": [
        "sen_col = mnist.iloc[4]"
      ],
      "execution_count": 5,
      "outputs": []
    },
    {
      "cell_type": "code",
      "metadata": {
        "id": "BdqI_r1ZRDbR",
        "colab_type": "code",
        "colab": {}
      },
      "source": [
        "sen_col = sen_col.iloc[1:786,]"
      ],
      "execution_count": 6,
      "outputs": []
    },
    {
      "cell_type": "code",
      "metadata": {
        "id": "lD7J_PfnRQEW",
        "colab_type": "code",
        "colab": {}
      },
      "source": [
        "abc = np.array(sen_col)"
      ],
      "execution_count": 7,
      "outputs": []
    },
    {
      "cell_type": "code",
      "metadata": {
        "id": "9sIp3qBYRZ1X",
        "colab_type": "code",
        "colab": {}
      },
      "source": [
        "abc = abc.reshape(28,28)"
      ],
      "execution_count": 8,
      "outputs": []
    },
    {
      "cell_type": "code",
      "metadata": {
        "id": "S1mcqq74RnKw",
        "colab_type": "code",
        "colab": {
          "base_uri": "https://localhost:8080/",
          "height": 282
        },
        "outputId": "a25bd35d-2d40-49c3-f22f-8f0a9e979c1a"
      },
      "source": [
        "plt.imshow(abc)"
      ],
      "execution_count": 9,
      "outputs": [
        {
          "output_type": "execute_result",
          "data": {
            "text/plain": [
              "<matplotlib.image.AxesImage at 0x7f4a26b493c8>"
            ]
          },
          "metadata": {
            "tags": []
          },
          "execution_count": 9
        },
        {
          "output_type": "display_data",
          "data": {
            "image/png": "[encoded data removed]",
            "text/plain": [
              "<Figure size 432x288 with 1 Axes>"
            ]
          },
          "metadata": {
            "tags": [],
            "needs_background": "light"
          }
        }
      ]
    },
    {
      "cell_type": "code",
      "metadata": {
        "id": "4rBtqzwiR451",
        "colab_type": "code",
        "colab": {
          "base_uri": "https://localhost:8080/",
          "height": 280
        },
        "outputId": "b2154066-29d7-419a-a8d5-5a3f259e6978"
      },
      "source": [
        "mnist1 = mnist.iloc[:, 1:786]\n",
        "mnist1 = np.array(mnist)\n",
        "for i in range(24):\n",
        "  plt.subplot(6,4, i+1)\n",
        "  plt.imshow(mnist1[i, :].reshape(28, 28))\n",
        "  plt.axis('off')"
      ],
      "execution_count": 10,
      "outputs": [
        {
          "output_type": "error",
          "ename": "ValueError",
          "evalue": "ignored",
          "traceback": [
            "\u001b[0;31m---------------------------------------------------------------------------\u001b[0m",
            "\u001b[0;31mValueError\u001b[0m                                Traceback (most recent call last)",
            "\u001b[0;32m<ipython-input-10-785037857f9a>\u001b[0m in \u001b[0;36m<module>\u001b[0;34m()\u001b[0m\n\u001b[1;32m      3\u001b[0m \u001b[0;32mfor\u001b[0m \u001b[0mi\u001b[0m \u001b[0;32min\u001b[0m \u001b[0mrange\u001b[0m\u001b[0;34m(\u001b[0m\u001b[0;36m24\u001b[0m\u001b[0;34m)\u001b[0m\u001b[0;34m:\u001b[0m\u001b[0;34m\u001b[0m\u001b[0;34m\u001b[0m\u001b[0m\n\u001b[1;32m      4\u001b[0m   \u001b[0mplt\u001b[0m\u001b[0;34m.\u001b[0m\u001b[0msubplot\u001b[0m\u001b[0;34m(\u001b[0m\u001b[0;36m6\u001b[0m\u001b[0;34m,\u001b[0m\u001b[0;36m4\u001b[0m\u001b[0;34m,\u001b[0m \u001b[0mi\u001b[0m\u001b[0;34m+\u001b[0m\u001b[0;36m1\u001b[0m\u001b[0;34m)\u001b[0m\u001b[0;34m\u001b[0m\u001b[0;34m\u001b[0m\u001b[0m\n\u001b[0;32m----> 5\u001b[0;31m   \u001b[0mplt\u001b[0m\u001b[0;34m.\u001b[0m\u001b[0mimshow\u001b[0m\u001b[0;34m(\u001b[0m\u001b[0mmnist1\u001b[0m\u001b[0;34m[\u001b[0m\u001b[0mi\u001b[0m\u001b[0;34m,\u001b[0m \u001b[0;34m:\u001b[0m\u001b[0;34m]\u001b[0m\u001b[0;34m.\u001b[0m\u001b[0mreshape\u001b[0m\u001b[0;34m(\u001b[0m\u001b[0;36m28\u001b[0m\u001b[0;34m,\u001b[0m \u001b[0;36m28\u001b[0m\u001b[0;34m)\u001b[0m\u001b[0;34m)\u001b[0m\u001b[0;34m\u001b[0m\u001b[0;34m\u001b[0m\u001b[0m\n\u001b[0m\u001b[1;32m      6\u001b[0m   \u001b[0mplt\u001b[0m\u001b[0;34m.\u001b[0m\u001b[0maxis\u001b[0m\u001b[0;34m(\u001b[0m\u001b[0;34m'off'\u001b[0m\u001b[0;34m)\u001b[0m\u001b[0;34m\u001b[0m\u001b[0;34m\u001b[0m\u001b[0m\n",
            "\u001b[0;31mValueError\u001b[0m: cannot reshape array of size 785 into shape (28,28)"
          ]
        },
        {
          "output_type": "display_data",
          "data": {
            "image/png": "[encoded data removed]",
            "text/plain": [
              "<Figure size 432x288 with 1 Axes>"
            ]
          },
          "metadata": {
            "tags": [],
            "needs_background": "light"
          }
        }
      ]
    },
    {
      "cell_type": "code",
      "metadata": {
        "id": "VZC0JZtrUkYC",
        "colab_type": "code",
        "colab": {}
      },
      "source": [
        "mnist = pd.read_csv(r\"/content/MNIST_Train.csv\")"
      ],
      "execution_count": 11,
      "outputs": []
    },
    {
      "cell_type": "code",
      "metadata": {
        "id": "ZP8CzvdsaHTp",
        "colab_type": "code",
        "colab": {}
      },
      "source": [
        "mnist_x = mnist.iloc[:, 1:786]\n",
        "\n",
        "mnist_y = mnist.iloc[:, 0]"
      ],
      "execution_count": 12,
      "outputs": []
    },
    {
      "cell_type": "code",
      "metadata": {
        "id": "1VpmWsu4ahLe",
        "colab_type": "code",
        "colab": {}
      },
      "source": [
        "from sklearn.model_selection import train_test_split"
      ],
      "execution_count": 13,
      "outputs": []
    },
    {
      "cell_type": "code",
      "metadata": {
        "id": "JChojgfZaszy",
        "colab_type": "code",
        "colab": {}
      },
      "source": [
        "mnist_x_train, mnist_x_test, mnist_y_train, mnist_y_test = train_test_split(mnist_x, mnist_y, test_size = .2, random_state = 101)"
      ],
      "execution_count": 14,
      "outputs": []
    },
    {
      "cell_type": "code",
      "metadata": {
        "id": "F8HQV4Y8bLze",
        "colab_type": "code",
        "colab": {}
      },
      "source": [
        "mnist_x_train = np.array(mnist_x_train)\n",
        "\n",
        "for i in range(len(mnist_x_train)):\n",
        "  mnist_x_train[i,].reshape(28, 28)"
      ],
      "execution_count": 15,
      "outputs": []
    },
    {
      "cell_type": "code",
      "metadata": {
        "id": "EX_IONvBbmdI",
        "colab_type": "code",
        "colab": {}
      },
      "source": [
        "mnist_x_test = np.array(mnist_x_test)\n",
        "\n",
        "for i in range(len(mnist_x_test)):\n",
        "  mnist_x_test[i,].reshape(28, 28)"
      ],
      "execution_count": 16,
      "outputs": []
    },
    {
      "cell_type": "code",
      "metadata": {
        "id": "71A9dFigcA0V",
        "colab_type": "code",
        "colab": {}
      },
      "source": [
        "mnist_x_train = tf.keras.utils.normalize(mnist_x_train)\n",
        "mnist_x_test = tf.keras.utils.normalize(mnist_x_test)"
      ],
      "execution_count": 17,
      "outputs": []
    },
    {
      "cell_type": "code",
      "metadata": {
        "id": "BEPQsBfAcXZT",
        "colab_type": "code",
        "colab": {}
      },
      "source": [
        "model = tf.keras.models.Sequential()\n",
        "model.add(tf.keras.layers.Dense(128, activation=tf.nn.relu))\n",
        "model.add(tf.keras.layers.Dense(128, activation=tf.nn.relu))\n",
        "model.add(tf.keras.layers.Dense(128, activation=tf.nn.relu))\n",
        "model.add(tf.keras.layers.Dense(10, activation=tf.nn.softmax))\n",
        "\n",
        "model.compile(optimizer ='adam', loss = 'sparse_categorical_crossentropy', metrics = ['accuracy'])"
      ],
      "execution_count": 18,
      "outputs": []
    },
    {
      "cell_type": "code",
      "metadata": {
        "id": "m28BOCJudmzb",
        "colab_type": "code",
        "colab": {
          "base_uri": "https://localhost:8080/",
          "height": 1000
        },
        "outputId": "37fb6f5c-3fba-4d59-a16d-4fb38913d886"
      },
      "source": [
        "mnist_y_train = np.array(mnist_y_train)\n",
        "\n",
        "model.fit( mnist_x_train, mnist_y_train, epochs=70, validation_split=.2, batch_size=100 )"
      ],
      "execution_count": 19,
      "outputs": [
        {
          "output_type": "stream",
          "text": [
            "Epoch 1/70\n",
            "269/269 [==============================] - 1s 5ms/step - loss: 0.6125 - accuracy: 0.8236 - val_loss: 0.3111 - val_accuracy: 0.9073\n",
            "Epoch 2/70\n",
            "269/269 [==============================] - 1s 4ms/step - loss: 0.2342 - accuracy: 0.9303 - val_loss: 0.2238 - val_accuracy: 0.9324\n",
            "Epoch 3/70\n",
            "269/269 [==============================] - 1s 5ms/step - loss: 0.1709 - accuracy: 0.9491 - val_loss: 0.1796 - val_accuracy: 0.9449\n",
            "Epoch 4/70\n",
            "269/269 [==============================] - 1s 5ms/step - loss: 0.1324 - accuracy: 0.9598 - val_loss: 0.1520 - val_accuracy: 0.9522\n",
            "Epoch 5/70\n",
            "269/269 [==============================] - 1s 5ms/step - loss: 0.1060 - accuracy: 0.9669 - val_loss: 0.1659 - val_accuracy: 0.9482\n",
            "Epoch 6/70\n",
            "269/269 [==============================] - 1s 5ms/step - loss: 0.0869 - accuracy: 0.9724 - val_loss: 0.1332 - val_accuracy: 0.9591\n",
            "Epoch 7/70\n",
            "269/269 [==============================] - 1s 5ms/step - loss: 0.0689 - accuracy: 0.9785 - val_loss: 0.1265 - val_accuracy: 0.9615\n",
            "Epoch 8/70\n",
            "269/269 [==============================] - 1s 5ms/step - loss: 0.0562 - accuracy: 0.9824 - val_loss: 0.1194 - val_accuracy: 0.9652\n",
            "Epoch 9/70\n",
            "269/269 [==============================] - 2s 6ms/step - loss: 0.0448 - accuracy: 0.9869 - val_loss: 0.1165 - val_accuracy: 0.9658\n",
            "Epoch 10/70\n",
            "269/269 [==============================] - 2s 6ms/step - loss: 0.0373 - accuracy: 0.9887 - val_loss: 0.1318 - val_accuracy: 0.9638\n",
            "Epoch 11/70\n",
            "269/269 [==============================] - 2s 6ms/step - loss: 0.0312 - accuracy: 0.9905 - val_loss: 0.1291 - val_accuracy: 0.9632\n",
            "Epoch 12/70\n",
            "269/269 [==============================] - 2s 6ms/step - loss: 0.0243 - accuracy: 0.9929 - val_loss: 0.1299 - val_accuracy: 0.9646\n",
            "Epoch 13/70\n",
            "269/269 [==============================] - 2s 6ms/step - loss: 0.0231 - accuracy: 0.9925 - val_loss: 0.1266 - val_accuracy: 0.9680\n",
            "Epoch 14/70\n",
            "269/269 [==============================] - 2s 6ms/step - loss: 0.0157 - accuracy: 0.9958 - val_loss: 0.1370 - val_accuracy: 0.9656\n",
            "Epoch 15/70\n",
            "269/269 [==============================] - 1s 5ms/step - loss: 0.0145 - accuracy: 0.9955 - val_loss: 0.1480 - val_accuracy: 0.9649\n",
            "Epoch 16/70\n",
            "269/269 [==============================] - 1s 5ms/step - loss: 0.0124 - accuracy: 0.9962 - val_loss: 0.1552 - val_accuracy: 0.9647\n",
            "Epoch 17/70\n",
            "269/269 [==============================] - 2s 6ms/step - loss: 0.0088 - accuracy: 0.9972 - val_loss: 0.1443 - val_accuracy: 0.9658\n",
            "Epoch 18/70\n",
            "269/269 [==============================] - 2s 6ms/step - loss: 0.0097 - accuracy: 0.9971 - val_loss: 0.1641 - val_accuracy: 0.9644\n",
            "Epoch 19/70\n",
            "269/269 [==============================] - 2s 6ms/step - loss: 0.0149 - accuracy: 0.9945 - val_loss: 0.1586 - val_accuracy: 0.9659\n",
            "Epoch 20/70\n",
            "269/269 [==============================] - 1s 5ms/step - loss: 0.0082 - accuracy: 0.9973 - val_loss: 0.1621 - val_accuracy: 0.9664\n",
            "Epoch 21/70\n",
            "269/269 [==============================] - 2s 6ms/step - loss: 0.0141 - accuracy: 0.9945 - val_loss: 0.1525 - val_accuracy: 0.9673\n",
            "Epoch 22/70\n",
            "269/269 [==============================] - 1s 5ms/step - loss: 0.0066 - accuracy: 0.9977 - val_loss: 0.1584 - val_accuracy: 0.9698\n",
            "Epoch 23/70\n",
            "269/269 [==============================] - 1s 5ms/step - loss: 0.0055 - accuracy: 0.9982 - val_loss: 0.1597 - val_accuracy: 0.9668\n",
            "Epoch 24/70\n",
            "269/269 [==============================] - 1s 4ms/step - loss: 0.0078 - accuracy: 0.9976 - val_loss: 0.1901 - val_accuracy: 0.9638\n",
            "Epoch 25/70\n",
            "269/269 [==============================] - 1s 5ms/step - loss: 0.0080 - accuracy: 0.9973 - val_loss: 0.1692 - val_accuracy: 0.9680\n",
            "Epoch 26/70\n",
            "269/269 [==============================] - 1s 4ms/step - loss: 0.0028 - accuracy: 0.9993 - val_loss: 0.1842 - val_accuracy: 0.9683\n",
            "Epoch 27/70\n",
            "269/269 [==============================] - 1s 5ms/step - loss: 0.0041 - accuracy: 0.9986 - val_loss: 0.1817 - val_accuracy: 0.9680\n",
            "Epoch 28/70\n",
            "269/269 [==============================] - 1s 5ms/step - loss: 0.0083 - accuracy: 0.9974 - val_loss: 0.2054 - val_accuracy: 0.9629\n",
            "Epoch 29/70\n",
            "269/269 [==============================] - 1s 4ms/step - loss: 0.0141 - accuracy: 0.9950 - val_loss: 0.1739 - val_accuracy: 0.9674\n",
            "Epoch 30/70\n",
            "269/269 [==============================] - 1s 5ms/step - loss: 0.0020 - accuracy: 0.9994 - val_loss: 0.1637 - val_accuracy: 0.9699\n",
            "Epoch 31/70\n",
            "269/269 [==============================] - 1s 4ms/step - loss: 3.2623e-04 - accuracy: 1.0000 - val_loss: 0.1633 - val_accuracy: 0.9723\n",
            "Epoch 32/70\n",
            "269/269 [==============================] - 1s 4ms/step - loss: 1.6804e-04 - accuracy: 1.0000 - val_loss: 0.1674 - val_accuracy: 0.9729\n",
            "Epoch 33/70\n",
            "269/269 [==============================] - 1s 4ms/step - loss: 1.2961e-04 - accuracy: 1.0000 - val_loss: 0.1703 - val_accuracy: 0.9726\n",
            "Epoch 34/70\n",
            "269/269 [==============================] - 1s 5ms/step - loss: 1.0403e-04 - accuracy: 1.0000 - val_loss: 0.1723 - val_accuracy: 0.9731\n",
            "Epoch 35/70\n",
            "269/269 [==============================] - 1s 4ms/step - loss: 8.6878e-05 - accuracy: 1.0000 - val_loss: 0.1752 - val_accuracy: 0.9731\n",
            "Epoch 36/70\n",
            "269/269 [==============================] - 1s 4ms/step - loss: 7.3760e-05 - accuracy: 1.0000 - val_loss: 0.1777 - val_accuracy: 0.9732\n",
            "Epoch 37/70\n",
            "269/269 [==============================] - 1s 4ms/step - loss: 6.3398e-05 - accuracy: 1.0000 - val_loss: 0.1801 - val_accuracy: 0.9735\n",
            "Epoch 38/70\n",
            "269/269 [==============================] - 1s 4ms/step - loss: 5.4426e-05 - accuracy: 1.0000 - val_loss: 0.1821 - val_accuracy: 0.9737\n",
            "Epoch 39/70\n",
            "269/269 [==============================] - 1s 5ms/step - loss: 4.8265e-05 - accuracy: 1.0000 - val_loss: 0.1848 - val_accuracy: 0.9731\n",
            "Epoch 40/70\n",
            "269/269 [==============================] - 1s 4ms/step - loss: 4.1496e-05 - accuracy: 1.0000 - val_loss: 0.1870 - val_accuracy: 0.9731\n",
            "Epoch 41/70\n",
            "269/269 [==============================] - 1s 4ms/step - loss: 3.6704e-05 - accuracy: 1.0000 - val_loss: 0.1878 - val_accuracy: 0.9741\n",
            "Epoch 42/70\n",
            "269/269 [==============================] - 1s 5ms/step - loss: 3.2501e-05 - accuracy: 1.0000 - val_loss: 0.1904 - val_accuracy: 0.9735\n",
            "Epoch 43/70\n",
            "269/269 [==============================] - 1s 4ms/step - loss: 2.8271e-05 - accuracy: 1.0000 - val_loss: 0.1929 - val_accuracy: 0.9734\n",
            "Epoch 44/70\n",
            "269/269 [==============================] - 1s 4ms/step - loss: 2.4966e-05 - accuracy: 1.0000 - val_loss: 0.1955 - val_accuracy: 0.9734\n",
            "Epoch 45/70\n",
            "269/269 [==============================] - 1s 4ms/step - loss: 2.2452e-05 - accuracy: 1.0000 - val_loss: 0.1967 - val_accuracy: 0.9738\n",
            "Epoch 46/70\n",
            "269/269 [==============================] - 1s 5ms/step - loss: 1.9724e-05 - accuracy: 1.0000 - val_loss: 0.1989 - val_accuracy: 0.9741\n",
            "Epoch 47/70\n",
            "269/269 [==============================] - 1s 5ms/step - loss: 1.7308e-05 - accuracy: 1.0000 - val_loss: 0.2016 - val_accuracy: 0.9737\n",
            "Epoch 48/70\n",
            "269/269 [==============================] - 1s 5ms/step - loss: 1.5027e-05 - accuracy: 1.0000 - val_loss: 0.2044 - val_accuracy: 0.9737\n",
            "Epoch 49/70\n",
            "269/269 [==============================] - 1s 5ms/step - loss: 1.3762e-05 - accuracy: 1.0000 - val_loss: 0.2053 - val_accuracy: 0.9740\n",
            "Epoch 50/70\n",
            "269/269 [==============================] - 1s 5ms/step - loss: 1.1779e-05 - accuracy: 1.0000 - val_loss: 0.2075 - val_accuracy: 0.9731\n",
            "Epoch 51/70\n",
            "269/269 [==============================] - 1s 5ms/step - loss: 1.0648e-05 - accuracy: 1.0000 - val_loss: 0.2084 - val_accuracy: 0.9734\n",
            "Epoch 52/70\n",
            "269/269 [==============================] - 1s 4ms/step - loss: 9.4788e-06 - accuracy: 1.0000 - val_loss: 0.2114 - val_accuracy: 0.9735\n",
            "Epoch 53/70\n",
            "269/269 [==============================] - 1s 4ms/step - loss: 7.9084e-06 - accuracy: 1.0000 - val_loss: 0.2139 - val_accuracy: 0.9738\n",
            "Epoch 54/70\n",
            "269/269 [==============================] - 1s 4ms/step - loss: 7.1349e-06 - accuracy: 1.0000 - val_loss: 0.2153 - val_accuracy: 0.9737\n",
            "Epoch 55/70\n",
            "269/269 [==============================] - 1s 4ms/step - loss: 6.4248e-06 - accuracy: 1.0000 - val_loss: 0.2188 - val_accuracy: 0.9735\n",
            "Epoch 56/70\n",
            "269/269 [==============================] - 1s 4ms/step - loss: 5.4779e-06 - accuracy: 1.0000 - val_loss: 0.2203 - val_accuracy: 0.9729\n",
            "Epoch 57/70\n",
            "269/269 [==============================] - 1s 5ms/step - loss: 4.9122e-06 - accuracy: 1.0000 - val_loss: 0.2237 - val_accuracy: 0.9728\n",
            "Epoch 58/70\n",
            "269/269 [==============================] - 1s 4ms/step - loss: 4.2589e-06 - accuracy: 1.0000 - val_loss: 0.2251 - val_accuracy: 0.9725\n",
            "Epoch 59/70\n",
            "269/269 [==============================] - 1s 4ms/step - loss: 3.7035e-06 - accuracy: 1.0000 - val_loss: 0.2272 - val_accuracy: 0.9732\n",
            "Epoch 60/70\n",
            "269/269 [==============================] - 1s 4ms/step - loss: 3.1534e-06 - accuracy: 1.0000 - val_loss: 0.2300 - val_accuracy: 0.9734\n",
            "Epoch 61/70\n",
            "269/269 [==============================] - 1s 4ms/step - loss: 2.8481e-06 - accuracy: 1.0000 - val_loss: 0.2325 - val_accuracy: 0.9735\n",
            "Epoch 62/70\n",
            "269/269 [==============================] - 1s 4ms/step - loss: 2.5460e-06 - accuracy: 1.0000 - val_loss: 0.2341 - val_accuracy: 0.9731\n",
            "Epoch 63/70\n",
            "269/269 [==============================] - 1s 4ms/step - loss: 2.1908e-06 - accuracy: 1.0000 - val_loss: 0.2352 - val_accuracy: 0.9732\n",
            "Epoch 64/70\n",
            "269/269 [==============================] - 1s 4ms/step - loss: 1.8720e-06 - accuracy: 1.0000 - val_loss: 0.2379 - val_accuracy: 0.9735\n",
            "Epoch 65/70\n",
            "269/269 [==============================] - 1s 4ms/step - loss: 1.6327e-06 - accuracy: 1.0000 - val_loss: 0.2401 - val_accuracy: 0.9731\n",
            "Epoch 66/70\n",
            "269/269 [==============================] - 1s 4ms/step - loss: 1.3992e-06 - accuracy: 1.0000 - val_loss: 0.2438 - val_accuracy: 0.9732\n",
            "Epoch 67/70\n",
            "269/269 [==============================] - 1s 4ms/step - loss: 1.2452e-06 - accuracy: 1.0000 - val_loss: 0.2449 - val_accuracy: 0.9735\n",
            "Epoch 68/70\n",
            "269/269 [==============================] - 1s 4ms/step - loss: 1.1209e-06 - accuracy: 1.0000 - val_loss: 0.2482 - val_accuracy: 0.9734\n",
            "Epoch 69/70\n",
            "269/269 [==============================] - 1s 4ms/step - loss: 9.5381e-07 - accuracy: 1.0000 - val_loss: 0.2510 - val_accuracy: 0.9734\n",
            "Epoch 70/70\n",
            "269/269 [==============================] - 1s 4ms/step - loss: 8.0924e-07 - accuracy: 1.0000 - val_loss: 0.2541 - val_accuracy: 0.9731\n"
          ],
          "name": "stdout"
        },
        {
          "output_type": "execute_result",
          "data": {
            "text/plain": [
              "<tensorflow.python.keras.callbacks.History at 0x7f4a1ea34fd0>"
            ]
          },
          "metadata": {
            "tags": []
          },
          "execution_count": 19
        }
      ]
    },
    {
      "cell_type": "code",
      "metadata": {
        "id": "RAQ2telUeJFt",
        "colab_type": "code",
        "colab": {
          "base_uri": "https://localhost:8080/",
          "height": 258
        },
        "outputId": "f7ecece0-37fe-4a6b-dac2-e6ea37209073"
      },
      "source": [
        "from sklearn.metrics import confusion_matrix\n",
        "\n",
        "pred1 = model.predict_classes(mnist_x_test)\n",
        "\n",
        "tab1 = confusion_matrix(pred1, mnist_y_test)\n",
        "pred1 = model.predict_classes(mnist_x_test)\n",
        "tab1"
      ],
      "execution_count": 20,
      "outputs": [
        {
          "output_type": "stream",
          "text": [
            "WARNING:tensorflow:From <ipython-input-20-12245ea6eb08>:3: Sequential.predict_classes (from tensorflow.python.keras.engine.sequential) is deprecated and will be removed after 2021-01-01.\n",
            "Instructions for updating:\n",
            "Please use instead:* `np.argmax(model.predict(x), axis=-1)`,   if your model does multi-class classification   (e.g. if it uses a `softmax` last-layer activation).* `(model.predict(x) > 0.5).astype(\"int32\")`,   if your model does binary classification   (e.g. if it uses a `sigmoid` last-layer activation).\n"
          ],
          "name": "stdout"
        },
        {
          "output_type": "execute_result",
          "data": {
            "text/plain": [
              "array([[776,   0,   3,   2,   2,   1,   0,   2,   1,   5],\n",
              "       [  0, 938,   5,   2,   2,   2,   3,   0,   2,   1],\n",
              "       [  1,   3, 835,   8,   0,   0,   0,   5,   3,   1],\n",
              "       [  1,   2,   3, 830,   0,  10,   0,   1,   5,   3],\n",
              "       [  0,   1,   2,   0, 801,   1,   1,   6,   1,   8],\n",
              "       [  0,   0,   1,   4,   1, 711,   2,   1,   6,   3],\n",
              "       [  5,   0,   1,   0,   3,   2, 818,   0,   6,   0],\n",
              "       [  1,   2,   3,   3,   3,   1,   0, 854,   3,   8],\n",
              "       [  5,   2,   3,   5,   2,   3,   0,   0, 790,   8],\n",
              "       [  0,   0,   3,   5,   4,   2,   0,   4,   3, 840]])"
            ]
          },
          "metadata": {
            "tags": []
          },
          "execution_count": 20
        }
      ]
    },
    {
      "cell_type": "code",
      "metadata": {
        "id": "ZK7wHEdqkTpT",
        "colab_type": "code",
        "colab": {
          "base_uri": "https://localhost:8080/",
          "height": 34
        },
        "outputId": "387f8a67-e757-4d4b-9e44-d0cb0ed843ac"
      },
      "source": [
        "tab1.diagonal().sum()/tab1.sum()*100"
      ],
      "execution_count": 22,
      "outputs": [
        {
          "output_type": "execute_result",
          "data": {
            "text/plain": [
              "97.53571428571428"
            ]
          },
          "metadata": {
            "tags": []
          },
          "execution_count": 22
        }
      ]
    },
    {
      "cell_type": "code",
      "metadata": {
        "id": "dZqQV-dgU1Ud",
        "colab_type": "code",
        "colab": {}
      },
      "source": [
        ""
      ],
      "execution_count": null,
      "outputs": []
    }
  ]
}